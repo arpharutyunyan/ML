{
 "metadata": {
  "language_info": {
   "codemirror_mode": {
    "name": "ipython",
    "version": 3
   },
   "file_extension": ".py",
   "mimetype": "text/x-python",
   "name": "python",
   "nbconvert_exporter": "python",
   "pygments_lexer": "ipython3",
   "version": "3.8.5"
  },
  "orig_nbformat": 2,
  "kernelspec": {
   "name": "python3",
   "display_name": "Python 3",
   "language": "python"
  }
 },
 "nbformat": 4,
 "nbformat_minor": 2,
 "cells": [
  {
   "cell_type": "code",
   "execution_count": 252,
   "metadata": {},
   "outputs": [],
   "source": [
    "import pandas as pd\n",
    "from sklearn.cluster import KMeans\n",
    "import matplotlib.pyplot as plt\n",
    "import numpy as np\n",
    "import random"
   ]
  },
  {
   "cell_type": "code",
   "execution_count": 253,
   "metadata": {},
   "outputs": [
    {
     "output_type": "execute_result",
     "data": {
      "text/plain": [
       "               x          y\n",
       "count  19.000000  19.000000\n",
       "mean   44.105263  41.368421\n",
       "std    18.070525  20.785172\n",
       "min    12.000000   7.000000\n",
       "25%    28.500000  23.500000\n",
       "50%    51.000000  46.000000\n",
       "75%    55.000000  58.500000\n",
       "max    72.000000  70.000000"
      ],
      "text/html": "<div>\n<style scoped>\n    .dataframe tbody tr th:only-of-type {\n        vertical-align: middle;\n    }\n\n    .dataframe tbody tr th {\n        vertical-align: top;\n    }\n\n    .dataframe thead th {\n        text-align: right;\n    }\n</style>\n<table border=\"1\" class=\"dataframe\">\n  <thead>\n    <tr style=\"text-align: right;\">\n      <th></th>\n      <th>x</th>\n      <th>y</th>\n    </tr>\n  </thead>\n  <tbody>\n    <tr>\n      <th>count</th>\n      <td>19.000000</td>\n      <td>19.000000</td>\n    </tr>\n    <tr>\n      <th>mean</th>\n      <td>44.105263</td>\n      <td>41.368421</td>\n    </tr>\n    <tr>\n      <th>std</th>\n      <td>18.070525</td>\n      <td>20.785172</td>\n    </tr>\n    <tr>\n      <th>min</th>\n      <td>12.000000</td>\n      <td>7.000000</td>\n    </tr>\n    <tr>\n      <th>25%</th>\n      <td>28.500000</td>\n      <td>23.500000</td>\n    </tr>\n    <tr>\n      <th>50%</th>\n      <td>51.000000</td>\n      <td>46.000000</td>\n    </tr>\n    <tr>\n      <th>75%</th>\n      <td>55.000000</td>\n      <td>58.500000</td>\n    </tr>\n    <tr>\n      <th>max</th>\n      <td>72.000000</td>\n      <td>70.000000</td>\n    </tr>\n  </tbody>\n</table>\n</div>"
     },
     "metadata": {},
     "execution_count": 253
    }
   ],
   "source": [
    "df = pd.DataFrame({\n",
    "    'x': [12, 20, 28, 18, 29, 33, 24, 45, 45, 52, 51, 52, 55, 53, 55, 61, 64, 69, 72],\n",
    "    'y': [39, 36, 30, 52, 54, 46, 55, 59, 63, 70, 66, 63, 58, 23, 14, 8, 19, 7, 24]\n",
    "})\n",
    "\n",
    "df.head()\n",
    "df.describe()"
   ]
  },
  {
   "cell_type": "code",
   "execution_count": null,
   "metadata": {},
   "outputs": [],
   "source": [
    "np.random.seed(200)\n",
    "k = 3\n",
    "# centroids[i] = [x, y]\n",
    "centroids = {\n",
    "    i+1: [np.random.randint(0, 80), np.random.randint(0, 80)]\n",
    "    for i in range(k)\n",
    "}\n",
    "fig = plt.figure(figsize=(5, 5))\n",
    "plt.scatter(df['x'], df['y'], color='k')\n",
    "colmap = {1: 'r', 2: 'g', 3: 'b'}\n",
    "for i in centroids.keys():\n",
    "    plt.scatter(*centroids[i], color=colmap[i])\n",
    "plt.xlim(0, 80)\n",
    "plt.ylim(0, 80)\n",
    "plt.show()"
   ]
  },
  {
   "cell_type": "code",
   "execution_count": null,
   "metadata": {},
   "outputs": [],
   "source": [
    "kmeans = KMeans(n_clusters=3)\n",
    "kmeans.fit(df)"
   ]
  },
  {
   "cell_type": "code",
   "execution_count": null,
   "metadata": {},
   "outputs": [],
   "source": [
    "labels = kmeans.predict(df)\n",
    "centroids = kmeans.cluster_centers_\n"
   ]
  },
  {
   "cell_type": "code",
   "execution_count": null,
   "metadata": {},
   "outputs": [],
   "source": [
    "fig = plt.figure(figsize=(5, 5))\n",
    "colmap = {1: 'r', 2: 'g', 3: 'b'}\n",
    "colors = [colmap[x+1] for x in labels]\n",
    "\n",
    "plt.scatter(df['x'], df['y'], color=colors, alpha=0.5, edgecolor='k')\n",
    "for idx, centroid in enumerate(centroids):\n",
    "    plt.scatter(*centroid, color=colmap[idx+1])\n",
    "plt.xlim(0, 80)\n",
    "plt.ylim(0, 80)\n",
    "plt.show()"
   ]
  },
  {
   "cell_type": "code",
   "execution_count": 254,
   "metadata": {},
   "outputs": [
    {
     "output_type": "stream",
     "name": "stdout",
     "text": [
      "[[12 39]\n [20 36]\n [28 30]\n [18 52]\n [29 54]\n [33 46]\n [24 55]\n [45 59]\n [45 63]\n [52 70]\n [51 66]\n [52 63]\n [55 58]\n [53 23]\n [55 14]\n [61  8]\n [64 19]\n [69  7]\n [72 24]]\n"
     ]
    }
   ],
   "source": [
    "POINTS = np.array(df)\n",
    "print(POINTS)"
   ]
  },
  {
   "cell_type": "code",
   "execution_count": 261,
   "metadata": {},
   "outputs": [],
   "source": [
    "class K_meansClustering:\n",
    "    \n",
    "    def __init__ (self, POINTS):\n",
    "        self.POINTS = POINTS\n",
    "\n",
    "    def calculating_distance(self, x1, x2):\n",
    "        \"\"\"\n",
    "        Calculate distance between points and centroids\n",
    "        ((x1 - x2)^2 + (y1 - y2)^2) ^ 0.5\n",
    "        \"\"\"\n",
    "        return (sum((x1 - x2)**2))**0.5\n",
    "\n",
    "    def get_first_centroids(self):\n",
    "        \"\"\"\n",
    "        Return the array of centroid coordinants for the first time\n",
    "        \"\"\"\n",
    "\n",
    "        # get 3 index for centroid coordinants\n",
    "        index_for_centroids = random.sample(range(len(POINTS)), 3) \n",
    "\n",
    "        # get (x, y) coordinant \n",
    "        centroids = np.array([POINTS[i] for i in index_for_centroids])\n",
    "        return centroids\n",
    "\n",
    "    def find_closest_clusters(self, centroids):\n",
    "        \"\"\"\n",
    "        Get array of centroids.\n",
    "        Return list wich elements are indexes of centroids.\n",
    "        \"\"\"\n",
    "        closest_points = []\n",
    "        # to get (x, y) of each point\n",
    "        for i in POINTS:\n",
    "            distances = []\n",
    "            # get (x, y) of each centroid\n",
    "            for j in centroids:\n",
    "                # calculade the distance between point and each centroid and add the list\n",
    "                distance = self.calculating_distance(i, j )\n",
    "                # the length of list \"distance\" will be 3\n",
    "                distances.append(distance)\n",
    "            # append the index of min value in list\n",
    "            closest_points.append(np.argmin(distances))\n",
    "        return closest_points\n",
    "\n",
    "    def updated_centroids(self, cluster):\n",
    "        \"\"\"\n",
    "        Get list of closest points with value of centroids like [0, 1, 2]\n",
    "        Create new dataframe (x, y, centroids)\n",
    "        Count the arithmetic average for x and y\n",
    "        Return list with updated coordinants for new centroid\n",
    "        \"\"\"\n",
    "        new_centroids = []\n",
    "        # create new data with x, y and cluster\n",
    "        new_df = pd.concat([pd.DataFrame(POINTS, columns=[\"x\", \"y\"]), pd.DataFrame(cluster, columns=[\"cluster\"])], axis=1)\n",
    "       \n",
    "        for i in set(new_df[\"cluster\"]):\n",
    "            # get items from data which equals each cluster and take only x and y columns \n",
    "            current_cluster = new_df[new_df[\"cluster\"]==i][new_df.columns[:-1]] \n",
    "            # count the average of x and y, wich will be the coordinant of new centroids\n",
    "            cluster_mean = current_cluster.mean(axis=0)\n",
    "            new_centroids.append(cluster_mean)\n",
    "        \n",
    "        return new_centroids\n",
    "\n",
    "        # print(new_df.describe())\n",
    "        # print(new_df.head())\n",
    "\n",
    "    def k_means(self):\n",
    "        first_cen = k.get_first_centroids()\n",
    "\n",
    "        for i in range(50):\n",
    "            clus = k.find_closest_clusters(first_cen)\n",
    "            new_cen = k.updated_centroids(clus)\n",
    "        fig = plt.figure(figsize=(5, 5))\n",
    "        colmap = {1: 'r', 2: 'g', 3: 'b'}\n",
    "        colors = [colmap[x+1] for x in clus]\n",
    "        for idx, centroid in enumerate(new_cen):\n",
    "            plt.scatter(*centroid, color=colmap[idx+1])\n",
    "        plt.scatter(POINTS[:, 0], POINTS[:, 1], alpha=0.5, color=colors)\n",
    "        plt.show()\n",
    "\n",
    "\n"
   ]
  },
  {
   "cell_type": "code",
   "execution_count": 262,
   "metadata": {},
   "outputs": [
    {
     "output_type": "display_data",
     "data": {
      "text/plain": "<Figure size 360x360 with 1 Axes>",
      "image/svg+xml": "<?xml version=\"1.0\" encoding=\"utf-8\" standalone=\"no\"?>\n<!DOCTYPE svg PUBLIC \"-//W3C//DTD SVG 1.1//EN\"\n  \"http://www.w3.org/Graphics/SVG/1.1/DTD/svg11.dtd\">\n<!-- Created with matplotlib (https://matplotlib.org/) -->\n<svg height=\"302.878125pt\" version=\"1.1\" viewBox=\"0 0 313.125 302.878125\" width=\"313.125pt\" xmlns=\"http://www.w3.org/2000/svg\" xmlns:xlink=\"http://www.w3.org/1999/xlink\">\n <metadata>\n  <rdf:RDF xmlns:cc=\"http://creativecommons.org/ns#\" xmlns:dc=\"http://purl.org/dc/elements/1.1/\" xmlns:rdf=\"http://www.w3.org/1999/02/22-rdf-syntax-ns#\">\n   <cc:Work>\n    <dc:type rdf:resource=\"http://purl.org/dc/dcmitype/StillImage\"/>\n    <dc:date>2021-04-04T15:35:47.905461</dc:date>\n    <dc:format>image/svg+xml</dc:format>\n    <dc:creator>\n     <cc:Agent>\n      <dc:title>Matplotlib v3.3.4, https://matplotlib.org/</dc:title>\n     </cc:Agent>\n    </dc:creator>\n   </cc:Work>\n  </rdf:RDF>\n </metadata>\n <defs>\n  <style type=\"text/css\">*{stroke-linecap:butt;stroke-linejoin:round;}</style>\n </defs>\n <g id=\"figure_1\">\n  <g id=\"patch_1\">\n   <path d=\"M 0 302.878125 \nL 313.125 302.878125 \nL 313.125 0 \nL 0 0 \nz\n\" style=\"fill:none;\"/>\n  </g>\n  <g id=\"axes_1\">\n   <g id=\"patch_2\">\n    <path d=\"M 26.925 279 \nL 305.925 279 \nL 305.925 7.2 \nL 26.925 7.2 \nz\n\" style=\"fill:#ffffff;\"/>\n   </g>\n   <g id=\"PathCollection_1\">\n    <defs>\n     <path d=\"M 0 3 \nC 0.795609 3 1.55874 2.683901 2.12132 2.12132 \nC 2.683901 1.55874 3 0.795609 3 0 \nC 3 -0.795609 2.683901 -1.55874 2.12132 -2.12132 \nC 1.55874 -2.683901 0.795609 -3 0 -3 \nC -0.795609 -3 -1.55874 -2.683901 -2.12132 -2.12132 \nC -2.683901 -1.55874 -3 -0.795609 -3 0 \nC -3 0.795609 -2.683901 1.55874 -2.12132 2.12132 \nC -1.55874 2.683901 -0.795609 3 0 3 \nz\n\" id=\"m6d21a1566a\" style=\"stroke:#ff0000;\"/>\n    </defs>\n    <g clip-path=\"url(#p31247d903f)\">\n     <use style=\"fill:#ff0000;stroke:#ff0000;\" x=\"112.879545\" xlink:href=\"#m6d21a1566a\" y=\"107.147619\"/>\n    </g>\n   </g>\n   <g id=\"PathCollection_2\">\n    <defs>\n     <path d=\"M 0 3 \nC 0.795609 3 1.55874 2.683901 2.12132 2.12132 \nC 2.683901 1.55874 3 0.795609 3 0 \nC 3 -0.795609 2.683901 -1.55874 2.12132 -2.12132 \nC 1.55874 -2.683901 0.795609 -3 0 -3 \nC -0.795609 -3 -1.55874 -2.683901 -2.12132 -2.12132 \nC -2.683901 -1.55874 -3 -0.795609 -3 0 \nC -3 0.795609 -2.683901 1.55874 -2.12132 2.12132 \nC -1.55874 2.683901 -0.795609 3 0 3 \nz\n\" id=\"m515dd7286a\" style=\"stroke:#008000;\"/>\n    </defs>\n    <g clip-path=\"url(#p31247d903f)\">\n     <use style=\"fill:#008000;stroke:#008000;\" x=\"200.243182\" xlink:href=\"#m515dd7286a\" y=\"37.203896\"/>\n    </g>\n   </g>\n   <g id=\"PathCollection_3\">\n    <defs>\n     <path d=\"M 0 3 \nC 0.795609 3 1.55874 2.683901 2.12132 2.12132 \nC 2.683901 1.55874 3 0.795609 3 0 \nC 3 -0.795609 2.683901 -1.55874 2.12132 -2.12132 \nC 1.55874 -2.683901 0.795609 -3 0 -3 \nC -0.795609 -3 -1.55874 -2.683901 -2.12132 -2.12132 \nC -2.683901 -1.55874 -3 -0.795609 -3 0 \nC -3 0.795609 -2.683901 1.55874 -2.12132 2.12132 \nC -1.55874 2.683901 -0.795609 3 0 3 \nz\n\" id=\"m8f8a6c6a8b\" style=\"stroke:#0000ff;\"/>\n    </defs>\n    <g clip-path=\"url(#p31247d903f)\">\n     <use style=\"fill:#0000ff;stroke:#0000ff;\" x=\"252.379545\" xlink:href=\"#m8f8a6c6a8b\" y=\"232.000433\"/>\n    </g>\n   </g>\n   <g id=\"PathCollection_4\">\n    <defs>\n     <path d=\"M 0 3 \nC 0.795609 3 1.55874 2.683901 2.12132 2.12132 \nC 2.683901 1.55874 3 0.795609 3 -0 \nC 3 -0.795609 2.683901 -1.55874 2.12132 -2.12132 \nC 1.55874 -2.683901 0.795609 -3 0 -3 \nC -0.795609 -3 -1.55874 -2.683901 -2.12132 -2.12132 \nC -2.683901 -1.55874 -3 -0.795609 -3 0 \nC -3 0.795609 -2.683901 1.55874 -2.12132 2.12132 \nC -1.55874 2.683901 -0.795609 3 0 3 \nz\n\" id=\"C0_0_e7a75f54db\"/>\n    </defs>\n    <g clip-path=\"url(#p31247d903f)\">\n     <use style=\"fill:#ff0000;fill-opacity:0.5;stroke:#ff0000;stroke-opacity:0.5;\" x=\"39.606818\" xlink:href=\"#C0_0_e7a75f54db\" y=\"141.138961\"/>\n    </g>\n    <g clip-path=\"url(#p31247d903f)\">\n     <use style=\"fill:#ff0000;fill-opacity:0.5;stroke:#ff0000;stroke-opacity:0.5;\" x=\"73.425\" xlink:href=\"#C0_0_e7a75f54db\" y=\"152.905195\"/>\n    </g>\n    <g clip-path=\"url(#p31247d903f)\">\n     <use style=\"fill:#ff0000;fill-opacity:0.5;stroke:#ff0000;stroke-opacity:0.5;\" x=\"107.243182\" xlink:href=\"#C0_0_e7a75f54db\" y=\"176.437662\"/>\n    </g>\n    <g clip-path=\"url(#p31247d903f)\">\n     <use style=\"fill:#ff0000;fill-opacity:0.5;stroke:#ff0000;stroke-opacity:0.5;\" x=\"64.970455\" xlink:href=\"#C0_0_e7a75f54db\" y=\"90.151948\"/>\n    </g>\n    <g clip-path=\"url(#p31247d903f)\">\n     <use style=\"fill:#ff0000;fill-opacity:0.5;stroke:#ff0000;stroke-opacity:0.5;\" x=\"111.470455\" xlink:href=\"#C0_0_e7a75f54db\" y=\"82.307792\"/>\n    </g>\n    <g clip-path=\"url(#p31247d903f)\">\n     <use style=\"fill:#ff0000;fill-opacity:0.5;stroke:#ff0000;stroke-opacity:0.5;\" x=\"128.379545\" xlink:href=\"#C0_0_e7a75f54db\" y=\"113.684416\"/>\n    </g>\n    <g clip-path=\"url(#p31247d903f)\">\n     <use style=\"fill:#ff0000;fill-opacity:0.5;stroke:#ff0000;stroke-opacity:0.5;\" x=\"90.334091\" xlink:href=\"#C0_0_e7a75f54db\" y=\"78.385714\"/>\n    </g>\n    <g clip-path=\"url(#p31247d903f)\">\n     <use style=\"fill:#ff0000;fill-opacity:0.5;stroke:#ff0000;stroke-opacity:0.5;\" x=\"179.106818\" xlink:href=\"#C0_0_e7a75f54db\" y=\"62.697403\"/>\n    </g>\n    <g clip-path=\"url(#p31247d903f)\">\n     <use style=\"fill:#008000;fill-opacity:0.5;stroke:#008000;stroke-opacity:0.5;\" x=\"179.106818\" xlink:href=\"#C0_0_e7a75f54db\" y=\"47.009091\"/>\n    </g>\n    <g clip-path=\"url(#p31247d903f)\">\n     <use style=\"fill:#008000;fill-opacity:0.5;stroke:#008000;stroke-opacity:0.5;\" x=\"208.697727\" xlink:href=\"#C0_0_e7a75f54db\" y=\"19.554545\"/>\n    </g>\n    <g clip-path=\"url(#p31247d903f)\">\n     <use style=\"fill:#008000;fill-opacity:0.5;stroke:#008000;stroke-opacity:0.5;\" x=\"204.470455\" xlink:href=\"#C0_0_e7a75f54db\" y=\"35.242857\"/>\n    </g>\n    <g clip-path=\"url(#p31247d903f)\">\n     <use style=\"fill:#008000;fill-opacity:0.5;stroke:#008000;stroke-opacity:0.5;\" x=\"208.697727\" xlink:href=\"#C0_0_e7a75f54db\" y=\"47.009091\"/>\n    </g>\n    <g clip-path=\"url(#p31247d903f)\">\n     <use style=\"fill:#ff0000;fill-opacity:0.5;stroke:#ff0000;stroke-opacity:0.5;\" x=\"221.379545\" xlink:href=\"#C0_0_e7a75f54db\" y=\"66.619481\"/>\n    </g>\n    <g clip-path=\"url(#p31247d903f)\">\n     <use style=\"fill:#0000ff;fill-opacity:0.5;stroke:#0000ff;stroke-opacity:0.5;\" x=\"212.925\" xlink:href=\"#C0_0_e7a75f54db\" y=\"203.892208\"/>\n    </g>\n    <g clip-path=\"url(#p31247d903f)\">\n     <use style=\"fill:#0000ff;fill-opacity:0.5;stroke:#0000ff;stroke-opacity:0.5;\" x=\"221.379545\" xlink:href=\"#C0_0_e7a75f54db\" y=\"239.190909\"/>\n    </g>\n    <g clip-path=\"url(#p31247d903f)\">\n     <use style=\"fill:#0000ff;fill-opacity:0.5;stroke:#0000ff;stroke-opacity:0.5;\" x=\"246.743182\" xlink:href=\"#C0_0_e7a75f54db\" y=\"262.723377\"/>\n    </g>\n    <g clip-path=\"url(#p31247d903f)\">\n     <use style=\"fill:#0000ff;fill-opacity:0.5;stroke:#0000ff;stroke-opacity:0.5;\" x=\"259.425\" xlink:href=\"#C0_0_e7a75f54db\" y=\"219.580519\"/>\n    </g>\n    <g clip-path=\"url(#p31247d903f)\">\n     <use style=\"fill:#0000ff;fill-opacity:0.5;stroke:#0000ff;stroke-opacity:0.5;\" x=\"280.561364\" xlink:href=\"#C0_0_e7a75f54db\" y=\"266.645455\"/>\n    </g>\n    <g clip-path=\"url(#p31247d903f)\">\n     <use style=\"fill:#0000ff;fill-opacity:0.5;stroke:#0000ff;stroke-opacity:0.5;\" x=\"293.243182\" xlink:href=\"#C0_0_e7a75f54db\" y=\"199.97013\"/>\n    </g>\n   </g>\n   <g id=\"matplotlib.axis_1\">\n    <g id=\"xtick_1\">\n     <g id=\"line2d_1\">\n      <defs>\n       <path d=\"M 0 0 \nL 0 3.5 \n\" id=\"mdfc3f39aae\" style=\"stroke:#000000;stroke-width:0.8;\"/>\n      </defs>\n      <g>\n       <use style=\"stroke:#000000;stroke-width:0.8;\" x=\"31.152273\" xlink:href=\"#mdfc3f39aae\" y=\"279\"/>\n      </g>\n     </g>\n     <g id=\"text_1\">\n      <!-- 10 -->\n      <g transform=\"translate(24.789773 293.598437)scale(0.1 -0.1)\">\n       <defs>\n        <path d=\"M 12.40625 8.296875 \nL 28.515625 8.296875 \nL 28.515625 63.921875 \nL 10.984375 60.40625 \nL 10.984375 69.390625 \nL 28.421875 72.90625 \nL 38.28125 72.90625 \nL 38.28125 8.296875 \nL 54.390625 8.296875 \nL 54.390625 0 \nL 12.40625 0 \nz\n\" id=\"DejaVuSans-49\"/>\n        <path d=\"M 31.78125 66.40625 \nQ 24.171875 66.40625 20.328125 58.90625 \nQ 16.5 51.421875 16.5 36.375 \nQ 16.5 21.390625 20.328125 13.890625 \nQ 24.171875 6.390625 31.78125 6.390625 \nQ 39.453125 6.390625 43.28125 13.890625 \nQ 47.125 21.390625 47.125 36.375 \nQ 47.125 51.421875 43.28125 58.90625 \nQ 39.453125 66.40625 31.78125 66.40625 \nz\nM 31.78125 74.21875 \nQ 44.046875 74.21875 50.515625 64.515625 \nQ 56.984375 54.828125 56.984375 36.375 \nQ 56.984375 17.96875 50.515625 8.265625 \nQ 44.046875 -1.421875 31.78125 -1.421875 \nQ 19.53125 -1.421875 13.0625 8.265625 \nQ 6.59375 17.96875 6.59375 36.375 \nQ 6.59375 54.828125 13.0625 64.515625 \nQ 19.53125 74.21875 31.78125 74.21875 \nz\n\" id=\"DejaVuSans-48\"/>\n       </defs>\n       <use xlink:href=\"#DejaVuSans-49\"/>\n       <use x=\"63.623047\" xlink:href=\"#DejaVuSans-48\"/>\n      </g>\n     </g>\n    </g>\n    <g id=\"xtick_2\">\n     <g id=\"line2d_2\">\n      <g>\n       <use style=\"stroke:#000000;stroke-width:0.8;\" x=\"73.425\" xlink:href=\"#mdfc3f39aae\" y=\"279\"/>\n      </g>\n     </g>\n     <g id=\"text_2\">\n      <!-- 20 -->\n      <g transform=\"translate(67.0625 293.598437)scale(0.1 -0.1)\">\n       <defs>\n        <path d=\"M 19.1875 8.296875 \nL 53.609375 8.296875 \nL 53.609375 0 \nL 7.328125 0 \nL 7.328125 8.296875 \nQ 12.9375 14.109375 22.625 23.890625 \nQ 32.328125 33.6875 34.8125 36.53125 \nQ 39.546875 41.84375 41.421875 45.53125 \nQ 43.3125 49.21875 43.3125 52.78125 \nQ 43.3125 58.59375 39.234375 62.25 \nQ 35.15625 65.921875 28.609375 65.921875 \nQ 23.96875 65.921875 18.8125 64.3125 \nQ 13.671875 62.703125 7.8125 59.421875 \nL 7.8125 69.390625 \nQ 13.765625 71.78125 18.9375 73 \nQ 24.125 74.21875 28.421875 74.21875 \nQ 39.75 74.21875 46.484375 68.546875 \nQ 53.21875 62.890625 53.21875 53.421875 \nQ 53.21875 48.921875 51.53125 44.890625 \nQ 49.859375 40.875 45.40625 35.40625 \nQ 44.1875 33.984375 37.640625 27.21875 \nQ 31.109375 20.453125 19.1875 8.296875 \nz\n\" id=\"DejaVuSans-50\"/>\n       </defs>\n       <use xlink:href=\"#DejaVuSans-50\"/>\n       <use x=\"63.623047\" xlink:href=\"#DejaVuSans-48\"/>\n      </g>\n     </g>\n    </g>\n    <g id=\"xtick_3\">\n     <g id=\"line2d_3\">\n      <g>\n       <use style=\"stroke:#000000;stroke-width:0.8;\" x=\"115.697727\" xlink:href=\"#mdfc3f39aae\" y=\"279\"/>\n      </g>\n     </g>\n     <g id=\"text_3\">\n      <!-- 30 -->\n      <g transform=\"translate(109.335227 293.598437)scale(0.1 -0.1)\">\n       <defs>\n        <path d=\"M 40.578125 39.3125 \nQ 47.65625 37.796875 51.625 33 \nQ 55.609375 28.21875 55.609375 21.1875 \nQ 55.609375 10.40625 48.1875 4.484375 \nQ 40.765625 -1.421875 27.09375 -1.421875 \nQ 22.515625 -1.421875 17.65625 -0.515625 \nQ 12.796875 0.390625 7.625 2.203125 \nL 7.625 11.71875 \nQ 11.71875 9.328125 16.59375 8.109375 \nQ 21.484375 6.890625 26.8125 6.890625 \nQ 36.078125 6.890625 40.9375 10.546875 \nQ 45.796875 14.203125 45.796875 21.1875 \nQ 45.796875 27.640625 41.28125 31.265625 \nQ 36.765625 34.90625 28.71875 34.90625 \nL 20.21875 34.90625 \nL 20.21875 43.015625 \nL 29.109375 43.015625 \nQ 36.375 43.015625 40.234375 45.921875 \nQ 44.09375 48.828125 44.09375 54.296875 \nQ 44.09375 59.90625 40.109375 62.90625 \nQ 36.140625 65.921875 28.71875 65.921875 \nQ 24.65625 65.921875 20.015625 65.03125 \nQ 15.375 64.15625 9.8125 62.3125 \nL 9.8125 71.09375 \nQ 15.4375 72.65625 20.34375 73.4375 \nQ 25.25 74.21875 29.59375 74.21875 \nQ 40.828125 74.21875 47.359375 69.109375 \nQ 53.90625 64.015625 53.90625 55.328125 \nQ 53.90625 49.265625 50.4375 45.09375 \nQ 46.96875 40.921875 40.578125 39.3125 \nz\n\" id=\"DejaVuSans-51\"/>\n       </defs>\n       <use xlink:href=\"#DejaVuSans-51\"/>\n       <use x=\"63.623047\" xlink:href=\"#DejaVuSans-48\"/>\n      </g>\n     </g>\n    </g>\n    <g id=\"xtick_4\">\n     <g id=\"line2d_4\">\n      <g>\n       <use style=\"stroke:#000000;stroke-width:0.8;\" x=\"157.970455\" xlink:href=\"#mdfc3f39aae\" y=\"279\"/>\n      </g>\n     </g>\n     <g id=\"text_4\">\n      <!-- 40 -->\n      <g transform=\"translate(151.607955 293.598437)scale(0.1 -0.1)\">\n       <defs>\n        <path d=\"M 37.796875 64.3125 \nL 12.890625 25.390625 \nL 37.796875 25.390625 \nz\nM 35.203125 72.90625 \nL 47.609375 72.90625 \nL 47.609375 25.390625 \nL 58.015625 25.390625 \nL 58.015625 17.1875 \nL 47.609375 17.1875 \nL 47.609375 0 \nL 37.796875 0 \nL 37.796875 17.1875 \nL 4.890625 17.1875 \nL 4.890625 26.703125 \nz\n\" id=\"DejaVuSans-52\"/>\n       </defs>\n       <use xlink:href=\"#DejaVuSans-52\"/>\n       <use x=\"63.623047\" xlink:href=\"#DejaVuSans-48\"/>\n      </g>\n     </g>\n    </g>\n    <g id=\"xtick_5\">\n     <g id=\"line2d_5\">\n      <g>\n       <use style=\"stroke:#000000;stroke-width:0.8;\" x=\"200.243182\" xlink:href=\"#mdfc3f39aae\" y=\"279\"/>\n      </g>\n     </g>\n     <g id=\"text_5\">\n      <!-- 50 -->\n      <g transform=\"translate(193.880682 293.598437)scale(0.1 -0.1)\">\n       <defs>\n        <path d=\"M 10.796875 72.90625 \nL 49.515625 72.90625 \nL 49.515625 64.59375 \nL 19.828125 64.59375 \nL 19.828125 46.734375 \nQ 21.96875 47.46875 24.109375 47.828125 \nQ 26.265625 48.1875 28.421875 48.1875 \nQ 40.625 48.1875 47.75 41.5 \nQ 54.890625 34.8125 54.890625 23.390625 \nQ 54.890625 11.625 47.5625 5.09375 \nQ 40.234375 -1.421875 26.90625 -1.421875 \nQ 22.3125 -1.421875 17.546875 -0.640625 \nQ 12.796875 0.140625 7.71875 1.703125 \nL 7.71875 11.625 \nQ 12.109375 9.234375 16.796875 8.0625 \nQ 21.484375 6.890625 26.703125 6.890625 \nQ 35.15625 6.890625 40.078125 11.328125 \nQ 45.015625 15.765625 45.015625 23.390625 \nQ 45.015625 31 40.078125 35.4375 \nQ 35.15625 39.890625 26.703125 39.890625 \nQ 22.75 39.890625 18.8125 39.015625 \nQ 14.890625 38.140625 10.796875 36.28125 \nz\n\" id=\"DejaVuSans-53\"/>\n       </defs>\n       <use xlink:href=\"#DejaVuSans-53\"/>\n       <use x=\"63.623047\" xlink:href=\"#DejaVuSans-48\"/>\n      </g>\n     </g>\n    </g>\n    <g id=\"xtick_6\">\n     <g id=\"line2d_6\">\n      <g>\n       <use style=\"stroke:#000000;stroke-width:0.8;\" x=\"242.515909\" xlink:href=\"#mdfc3f39aae\" y=\"279\"/>\n      </g>\n     </g>\n     <g id=\"text_6\">\n      <!-- 60 -->\n      <g transform=\"translate(236.153409 293.598437)scale(0.1 -0.1)\">\n       <defs>\n        <path d=\"M 33.015625 40.375 \nQ 26.375 40.375 22.484375 35.828125 \nQ 18.609375 31.296875 18.609375 23.390625 \nQ 18.609375 15.53125 22.484375 10.953125 \nQ 26.375 6.390625 33.015625 6.390625 \nQ 39.65625 6.390625 43.53125 10.953125 \nQ 47.40625 15.53125 47.40625 23.390625 \nQ 47.40625 31.296875 43.53125 35.828125 \nQ 39.65625 40.375 33.015625 40.375 \nz\nM 52.59375 71.296875 \nL 52.59375 62.3125 \nQ 48.875 64.0625 45.09375 64.984375 \nQ 41.3125 65.921875 37.59375 65.921875 \nQ 27.828125 65.921875 22.671875 59.328125 \nQ 17.53125 52.734375 16.796875 39.40625 \nQ 19.671875 43.65625 24.015625 45.921875 \nQ 28.375 48.1875 33.59375 48.1875 \nQ 44.578125 48.1875 50.953125 41.515625 \nQ 57.328125 34.859375 57.328125 23.390625 \nQ 57.328125 12.15625 50.6875 5.359375 \nQ 44.046875 -1.421875 33.015625 -1.421875 \nQ 20.359375 -1.421875 13.671875 8.265625 \nQ 6.984375 17.96875 6.984375 36.375 \nQ 6.984375 53.65625 15.1875 63.9375 \nQ 23.390625 74.21875 37.203125 74.21875 \nQ 40.921875 74.21875 44.703125 73.484375 \nQ 48.484375 72.75 52.59375 71.296875 \nz\n\" id=\"DejaVuSans-54\"/>\n       </defs>\n       <use xlink:href=\"#DejaVuSans-54\"/>\n       <use x=\"63.623047\" xlink:href=\"#DejaVuSans-48\"/>\n      </g>\n     </g>\n    </g>\n    <g id=\"xtick_7\">\n     <g id=\"line2d_7\">\n      <g>\n       <use style=\"stroke:#000000;stroke-width:0.8;\" x=\"284.788636\" xlink:href=\"#mdfc3f39aae\" y=\"279\"/>\n      </g>\n     </g>\n     <g id=\"text_7\">\n      <!-- 70 -->\n      <g transform=\"translate(278.426136 293.598437)scale(0.1 -0.1)\">\n       <defs>\n        <path d=\"M 8.203125 72.90625 \nL 55.078125 72.90625 \nL 55.078125 68.703125 \nL 28.609375 0 \nL 18.3125 0 \nL 43.21875 64.59375 \nL 8.203125 64.59375 \nz\n\" id=\"DejaVuSans-55\"/>\n       </defs>\n       <use xlink:href=\"#DejaVuSans-55\"/>\n       <use x=\"63.623047\" xlink:href=\"#DejaVuSans-48\"/>\n      </g>\n     </g>\n    </g>\n   </g>\n   <g id=\"matplotlib.axis_2\">\n    <g id=\"ytick_1\">\n     <g id=\"line2d_8\">\n      <defs>\n       <path d=\"M 0 0 \nL -3.5 0 \n\" id=\"m35082b43c6\" style=\"stroke:#000000;stroke-width:0.8;\"/>\n      </defs>\n      <g>\n       <use style=\"stroke:#000000;stroke-width:0.8;\" x=\"26.925\" xlink:href=\"#m35082b43c6\" y=\"254.879221\"/>\n      </g>\n     </g>\n     <g id=\"text_8\">\n      <!-- 10 -->\n      <g transform=\"translate(7.2 258.67844)scale(0.1 -0.1)\">\n       <use xlink:href=\"#DejaVuSans-49\"/>\n       <use x=\"63.623047\" xlink:href=\"#DejaVuSans-48\"/>\n      </g>\n     </g>\n    </g>\n    <g id=\"ytick_2\">\n     <g id=\"line2d_9\">\n      <g>\n       <use style=\"stroke:#000000;stroke-width:0.8;\" x=\"26.925\" xlink:href=\"#m35082b43c6\" y=\"215.658442\"/>\n      </g>\n     </g>\n     <g id=\"text_9\">\n      <!-- 20 -->\n      <g transform=\"translate(7.2 219.45766)scale(0.1 -0.1)\">\n       <use xlink:href=\"#DejaVuSans-50\"/>\n       <use x=\"63.623047\" xlink:href=\"#DejaVuSans-48\"/>\n      </g>\n     </g>\n    </g>\n    <g id=\"ytick_3\">\n     <g id=\"line2d_10\">\n      <g>\n       <use style=\"stroke:#000000;stroke-width:0.8;\" x=\"26.925\" xlink:href=\"#m35082b43c6\" y=\"176.437662\"/>\n      </g>\n     </g>\n     <g id=\"text_10\">\n      <!-- 30 -->\n      <g transform=\"translate(7.2 180.236881)scale(0.1 -0.1)\">\n       <use xlink:href=\"#DejaVuSans-51\"/>\n       <use x=\"63.623047\" xlink:href=\"#DejaVuSans-48\"/>\n      </g>\n     </g>\n    </g>\n    <g id=\"ytick_4\">\n     <g id=\"line2d_11\">\n      <g>\n       <use style=\"stroke:#000000;stroke-width:0.8;\" x=\"26.925\" xlink:href=\"#m35082b43c6\" y=\"137.216883\"/>\n      </g>\n     </g>\n     <g id=\"text_11\">\n      <!-- 40 -->\n      <g transform=\"translate(7.2 141.016102)scale(0.1 -0.1)\">\n       <use xlink:href=\"#DejaVuSans-52\"/>\n       <use x=\"63.623047\" xlink:href=\"#DejaVuSans-48\"/>\n      </g>\n     </g>\n    </g>\n    <g id=\"ytick_5\">\n     <g id=\"line2d_12\">\n      <g>\n       <use style=\"stroke:#000000;stroke-width:0.8;\" x=\"26.925\" xlink:href=\"#m35082b43c6\" y=\"97.996104\"/>\n      </g>\n     </g>\n     <g id=\"text_12\">\n      <!-- 50 -->\n      <g transform=\"translate(7.2 101.795323)scale(0.1 -0.1)\">\n       <use xlink:href=\"#DejaVuSans-53\"/>\n       <use x=\"63.623047\" xlink:href=\"#DejaVuSans-48\"/>\n      </g>\n     </g>\n    </g>\n    <g id=\"ytick_6\">\n     <g id=\"line2d_13\">\n      <g>\n       <use style=\"stroke:#000000;stroke-width:0.8;\" x=\"26.925\" xlink:href=\"#m35082b43c6\" y=\"58.775325\"/>\n      </g>\n     </g>\n     <g id=\"text_13\">\n      <!-- 60 -->\n      <g transform=\"translate(7.2 62.574543)scale(0.1 -0.1)\">\n       <use xlink:href=\"#DejaVuSans-54\"/>\n       <use x=\"63.623047\" xlink:href=\"#DejaVuSans-48\"/>\n      </g>\n     </g>\n    </g>\n    <g id=\"ytick_7\">\n     <g id=\"line2d_14\">\n      <g>\n       <use style=\"stroke:#000000;stroke-width:0.8;\" x=\"26.925\" xlink:href=\"#m35082b43c6\" y=\"19.554545\"/>\n      </g>\n     </g>\n     <g id=\"text_14\">\n      <!-- 70 -->\n      <g transform=\"translate(7.2 23.353764)scale(0.1 -0.1)\">\n       <use xlink:href=\"#DejaVuSans-55\"/>\n       <use x=\"63.623047\" xlink:href=\"#DejaVuSans-48\"/>\n      </g>\n     </g>\n    </g>\n   </g>\n   <g id=\"patch_3\">\n    <path d=\"M 26.925 279 \nL 26.925 7.2 \n\" style=\"fill:none;stroke:#000000;stroke-linecap:square;stroke-linejoin:miter;stroke-width:0.8;\"/>\n   </g>\n   <g id=\"patch_4\">\n    <path d=\"M 305.925 279 \nL 305.925 7.2 \n\" style=\"fill:none;stroke:#000000;stroke-linecap:square;stroke-linejoin:miter;stroke-width:0.8;\"/>\n   </g>\n   <g id=\"patch_5\">\n    <path d=\"M 26.925 279 \nL 305.925 279 \n\" style=\"fill:none;stroke:#000000;stroke-linecap:square;stroke-linejoin:miter;stroke-width:0.8;\"/>\n   </g>\n   <g id=\"patch_6\">\n    <path d=\"M 26.925 7.2 \nL 305.925 7.2 \n\" style=\"fill:none;stroke:#000000;stroke-linecap:square;stroke-linejoin:miter;stroke-width:0.8;\"/>\n   </g>\n  </g>\n </g>\n <defs>\n  <clipPath id=\"p31247d903f\">\n   <rect height=\"271.8\" width=\"279\" x=\"26.925\" y=\"7.2\"/>\n  </clipPath>\n </defs>\n</svg>\n",
      "image/png": "[encoded data removed]"
     },
     "metadata": {
      "needs_background": "light"
     }
    }
   ],
   "source": [
    "k = K_meansClustering(POINTS)\n",
    "# first_cen = k.get_first_centroids()\n",
    "\n",
    "# for i in range(14):\n",
    "#     clus = k.find_closest_clusters(first_cen)\n",
    "#     new_cen = k.updated_centroids(clus)\n",
    "\n",
    "# fig = plt.figure(figsize=(5, 5))\n",
    "# colmap = {1: 'r', 2: 'g', 3: 'b'}\n",
    "# colors = [colmap[x+1] for x in clus]\n",
    "# for idx, centroid in enumerate(new_cen):\n",
    "#     plt.scatter(*centroid, color=colmap[idx+1])\n",
    "# plt.scatter(POINTS[:, 0], POINTS[:, 1], alpha=0.5, color=colors)\n",
    "# plt.show()\n",
    "\n",
    "k.k_means()\n",
    "   \n"
   ]
  },
  {
   "cell_type": "code",
   "execution_count": null,
   "metadata": {},
   "outputs": [],
   "source": []
  }
 ]
}